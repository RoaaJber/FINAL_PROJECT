{
 "cells": [
  {
   "cell_type": "code",
   "execution_count": 1,
   "metadata": {},
   "outputs": [],
   "source": [
    "import requests"
   ]
  },
  {
   "cell_type": "code",
   "execution_count": 2,
   "metadata": {},
   "outputs": [],
   "source": [
    "base_url = \"https://api.math.tools/\"\n",
    "endpoint = base_url + \"numbers/nod\"\n",
    "\n",
    "response = requests.get(endpoint)"
   ]
  },
  {
   "cell_type": "code",
   "execution_count": 3,
   "metadata": {},
   "outputs": [
    {
     "data": {
      "text/plain": [
       "{'success': {'total': 1},\n",
       " 'copyright': {'copyright': '2019-21 https://math.tools'},\n",
       " 'contents': {'number': 59331,\n",
       "  'base': {'from': 10, 'to': 16},\n",
       "  'answer': 'e7c3'}}"
      ]
     },
     "execution_count": 3,
     "metadata": {},
     "output_type": "execute_result"
    }
   ],
   "source": [
    "my_num = response.json()\n",
    "my_num = my_num[\"contents\"][\"nod\"][\"numbers\"][\"number\"]\n",
    "\n",
    "end_point = base_url + f\"numbers/base?number={my_num}&from=10&to=16\"\n",
    "end_point\n",
    "hexa_response = requests.get(end_point)\n",
    "hexa_response.json()"
   ]
  }
 ],
 "metadata": {
  "kernelspec": {
   "display_name": "Python 3",
   "language": "python",
   "name": "python3"
  },
  "language_info": {
   "codemirror_mode": {
    "name": "ipython",
    "version": 3
   },
   "file_extension": ".py",
   "mimetype": "text/x-python",
   "name": "python",
   "nbconvert_exporter": "python",
   "pygments_lexer": "ipython3",
   "version": "3.12.4"
  }
 },
 "nbformat": 4,
 "nbformat_minor": 2
}
